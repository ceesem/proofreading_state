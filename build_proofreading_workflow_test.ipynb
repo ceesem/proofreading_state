{
 "cells": [
  {
   "cell_type": "code",
   "execution_count": 1,
   "metadata": {},
   "outputs": [],
   "source": [
    "import proofer"
   ]
  },
  {
   "cell_type": "code",
   "execution_count": 2,
   "metadata": {},
   "outputs": [
    {
     "data": {
      "text/plain": [
       "<module 'proofer' from '/Users/caseyschneider-mizell/Work/allen_work/data_analysis/proofreading_state/proofer.py'>"
      ]
     },
     "execution_count": 2,
     "metadata": {},
     "output_type": "execute_result"
    }
   ],
   "source": [
    "from imp import reload\n",
    "reload(proofer)"
   ]
  },
  {
   "cell_type": "code",
   "execution_count": 3,
   "metadata": {},
   "outputs": [],
   "source": [
    "datastack = 'minnie65_phase3_v1'"
   ]
  },
  {
   "cell_type": "code",
   "execution_count": 4,
   "metadata": {},
   "outputs": [
    {
     "data": {
      "text/html": [
       "<a href=\"https://akhilesh-graphene-sharded-dot-neuromancer-seung-import.appspot.com/#!%7B%22navigation%22:%7B%22pose%22:%7B%22position%22:%7B%22voxelSize%22:%5B4.0,4.0,40.0%5D%7D%7D,%22zoomFactor%22:2.0%7D,%22showSlices%22:false,%22layout%22:%22xy-3d%22,%22perspectiveZoom%22:2000.0,%22layers%22:%5B%7B%22type%22:%22image%22,%22source%22:%22graphene://https://minnie.microns-daf.com/proxy/minniev2_em/%22,%22name%22:%22img%22,%22shader%22:%22#uicontrol%20float%20black%20slider(min=0,%20max=1,%20default=0.0)%5Cn#uicontrol%20float%20white%20slider(min=0,%20max=1,%20default=1.0)%5Cnfloat%20rescale(float%20value)%20%7B%5Cn%20%20return%20(value%20-%20black)%20/%20(white%20-%20black);%5Cn%7D%5Cnvoid%20main()%20%7B%5Cn%20%20float%20val%20=%20toNormalized(getDataValue());%5Cn%20%20if%20(val%20%3C%20black)%20%7B%5Cn%20%20%20%20emitRGB(vec3(0,0,0));%5Cn%20%20%7D%20else%20if%20(val%20%3E%20white)%20%7B%5Cn%20%20%20%20emitRGB(vec3(1.0,%201.0,%201.0));%5Cn%20%20%7D%20else%20%7B%5Cn%20%20%20%20emitGrayscale(rescale(val));%5Cn%20%20%7D%5Cn%7D%5Cn%22%7D,%7B%22type%22:%22segmentation_with_graph%22,%22source%22:%22graphene://https://minniev1.microns-daf.com/segmentation/table/minnie3_v1%22,%22name%22:%22select_to_proof%22%7D,%7B%22type%22:%22annotation%22,%22filterBySegmentation%22:false,%22name%22:%22ignore_beyond%22%7D,%7B%22type%22:%22annotation%22,%22filterBySegmentation%22:false,%22name%22:%22center_point%22%7D%5D,%22selectedLayer%22:%7B%22layer%22:%22center_point%22,%22visible%22:true%7D%7D\" target=\"_blank\">Neuroglancer Link</a>"
      ],
      "text/plain": [
       "<IPython.core.display.HTML object>"
      ]
     },
     "execution_count": 4,
     "metadata": {},
     "output_type": "execute_result"
    }
   ],
   "source": [
    "proofer.initial_state_url(datastack, return_as='html')"
   ]
  },
  {
   "cell_type": "code",
   "execution_count": 5,
   "metadata": {},
   "outputs": [],
   "source": [
    "orig_url = \"https://akhilesh-graphene-sharded-dot-neuromancer-seung-import.appspot.com/?json_url=https://globalv1.daf-apis.com/nglstate/api/v1/6218267215527936\""
   ]
  },
  {
   "cell_type": "code",
   "execution_count": 6,
   "metadata": {},
   "outputs": [],
   "source": [
    "orig_url = \"https://akhilesh-graphene-sharded-dot-neuromancer-seung-import.appspot.com/?json_url=https://globalv1.daf-apis.com/nglstate/api/v1/6085909476802560\""
   ]
  },
  {
   "cell_type": "code",
   "execution_count": 7,
   "metadata": {},
   "outputs": [
    {
     "name": "stderr",
     "output_type": "stream",
     "text": [
      "100%|██████████| 1479755/1479755 [01:28<00:00, 16767.87it/s]\n"
     ]
    },
    {
     "data": {
      "text/html": [
       "<a href=\"https://akhilesh-graphene-sharded-dot-neuromancer-seung-import.appspot.com/#!%7B%22navigation%22:%7B%22pose%22:%7B%22position%22:%7B%22voxelSize%22:%5B4.0,4.0,40.0%5D,%22voxelCoordinates%22:%5B241962.0,173166.0,21233.625%5D%7D%7D,%22zoomFactor%22:2.0%7D,%22showSlices%22:false,%22layout%22:%22xy-3d%22,%22perspectiveZoom%22:2000.0,%22layers%22:%5B%7B%22type%22:%22image%22,%22source%22:%22graphene://https://minnie.microns-daf.com/proxy/minniev2_em/%22,%22name%22:%22img%22,%22shader%22:%22#uicontrol%20float%20black%20slider(min=0,%20max=1,%20default=0.0)%5Cn#uicontrol%20float%20white%20slider(min=0,%20max=1,%20default=1.0)%5Cnfloat%20rescale(float%20value)%20%7B%5Cn%20%20return%20(value%20-%20black)%20/%20(white%20-%20black);%5Cn%7D%5Cnvoid%20main()%20%7B%5Cn%20%20float%20val%20=%20toNormalized(getDataValue());%5Cn%20%20if%20(val%20%3C%20black)%20%7B%5Cn%20%20%20%20emitRGB(vec3(0,0,0));%5Cn%20%20%7D%20else%20if%20(val%20%3E%20white)%20%7B%5Cn%20%20%20%20emitRGB(vec3(1.0,%201.0,%201.0));%5Cn%20%20%7D%20else%20%7B%5Cn%20%20%20%20emitGrayscale(rescale(val));%5Cn%20%20%7D%5Cn%7D%5Cn%22%7D,%7B%22type%22:%22segmentation_with_graph%22,%22source%22:%22graphene://https://minniev1.microns-daf.com/segmentation/table/minnie3_v1%22,%22name%22:%22seg%22,%22segments%22:%5B%22864691135347092978%22%5D,%22segmentColors%22:%7B%7D%7D,%7B%22type%22:%22annotation%22,%22filterBySegmentation%22:false,%22annotationColor%22:%22#3322BB%22,%22name%22:%22branch_points%22,%22annotationTags%22:%5B%7B%22id%22:1,%22label%22:%22checked%22%7D%5D,%22annotations%22:%5B%7B%22tagIds%22:%5B%5D,%22type%22:%22point%22,%22point%22:%5B241962.0,173166.0,21233.0%5D,%22id%22:%2247b84bebfd18a0a7b1c2f55a7b722e411cf26667%22,%22segments%22:%5B%5D%7D,%7B%22tagIds%22:%5B%5D,%22type%22:%22point%22,%22point%22:%5B242182.0,175502.0,21195.0%5D,%22id%22:%22ba168770025befa3aa21200d02a5125ab8cd7a6d%22,%22segments%22:%5B%5D%7D,%7B%22tagIds%22:%5B%5D,%22type%22:%22point%22,%22point%22:%5B242502.0,181046.0,21228.0%5D,%22id%22:%2252e6bd80dab08bd39ade3b0d8c09ec65fc42fd99%22,%22segments%22:%5B%5D%7D,%7B%22tagIds%22:%5B%5D,%22type%22:%22point%22,%22point%22:%5B242807.0,149777.0,21084.0%5D,%22id%22:%22db61d250550d5963ff3d538e7da1e78c7f6546de%22,%22segments%22:%5B%5D%7D,%7B%22tagIds%22:%5B%5D,%22type%22:%22point%22,%22point%22:%5B242901.0,147824.0,21099.0%5D,%22id%22:%22374f8d4fd2b9408d1c113ba1162c20114e1c43f4%22,%22segments%22:%5B%5D%7D,%7B%22tagIds%22:%5B%5D,%22type%22:%22point%22,%22point%22:%5B252619.0,149100.0,20618.0%5D,%22id%22:%22efa25519a3034ced57cd75a7d29a0b0ee1db98f9%22,%22segments%22:%5B%5D%7D,%7B%22tagIds%22:%5B%5D,%22type%22:%22point%22,%22point%22:%5B246288.0,184973.0,21589.0%5D,%22id%22:%2214016d1ebfd8c3a8c35030b15bf6ee7af036edf9%22,%22segments%22:%5B%5D%7D,%7B%22tagIds%22:%5B%5D,%22type%22:%22point%22,%22point%22:%5B246692.0,184852.0,21698.0%5D,%22id%22:%2256fffbf81602efbf8f6756c42ba094226acec688%22,%22segments%22:%5B%5D%7D,%7B%22tagIds%22:%5B%5D,%22type%22:%22point%22,%22point%22:%5B252026.0,187157.0,21578.0%5D,%22id%22:%22155f0a7eb4ecf40c9cd4c9d3fe5b15dde9e749fa%22,%22segments%22:%5B%5D%7D,%7B%22tagIds%22:%5B%5D,%22type%22:%22point%22,%22point%22:%5B219408.0,177350.0,19383.0%5D,%22id%22:%22002c2d1817a3f6ad1efdd1b2db3f39cd6d98a9e4%22,%22segments%22:%5B%5D%7D,%7B%22tagIds%22:%5B%5D,%22type%22:%22point%22,%22point%22:%5B244786.0,182343.0,21142.0%5D,%22id%22:%228434cd16ae8f66056c06abcec227df795da5c4da%22,%22segments%22:%5B%5D%7D,%7B%22tagIds%22:%5B%5D,%22type%22:%22point%22,%22point%22:%5B262237.0,173559.0,22398.0%5D,%22id%22:%22bf97d34b60e0697514c05b2313e0a621fa0d1827%22,%22segments%22:%5B%5D%7D,%7B%22tagIds%22:%5B%5D,%22type%22:%22point%22,%22point%22:%5B252819.0,175108.0,20455.0%5D,%22id%22:%222dc1e8103e26a87feb09d5f1decd3687622ab5ac%22,%22segments%22:%5B%5D%7D,%7B%22tagIds%22:%5B%5D,%22type%22:%22point%22,%22point%22:%5B262358.0,173958.0,22437.0%5D,%22id%22:%22550b4ea0cd809f16de2a2109dfb680748991b0d0%22,%22segments%22:%5B%5D%7D,%7B%22tagIds%22:%5B%5D,%22type%22:%22point%22,%22point%22:%5B239982.0,188007.0,22274.0%5D,%22id%22:%227aac7f56d6651a4b0627b2ea8a9b5aaa6df4473d%22,%22segments%22:%5B%5D%7D,%7B%22tagIds%22:%5B%5D,%22type%22:%22point%22,%22point%22:%5B240161.0,188270.0,22066.0%5D,%22id%22:%22f82189de28cd894b79f5d3eb6675cbcbc142cb0c%22,%22segments%22:%5B%5D%7D,%7B%22tagIds%22:%5B%5D,%22type%22:%22point%22,%22point%22:%5B241116.0,188475.0,22824.0%5D,%22id%22:%22b53d9d6a9880bb4827efe795969644de9b3ae022%22,%22segments%22:%5B%5D%7D,%7B%22tagIds%22:%5B%5D,%22type%22:%22point%22,%22point%22:%5B236832.0,190323.0,20386.0%5D,%22id%22:%22f9d7d1cb79956f75c36125002e30ce77ebbf991b%22,%22segments%22:%5B%5D%7D%5D%7D,%7B%22type%22:%22annotation%22,%22filterBySegmentation%22:false,%22annotationColor%22:%22#BBCC33%22,%22name%22:%22end_points%22,%22annotationTags%22:%5B%7B%22id%22:1,%22label%22:%22nat_end%22%7D,%7B%22id%22:2,%22label%22:%22unc_end%22%7D,%7B%22id%22:3,%22label%22:%22unc_cont%22%7D%5D,%22annotations%22:%5B%7B%22tagIds%22:%5B%5D,%22type%22:%22point%22,%22point%22:%5B239704.0,115274.0,21124.0%5D,%22id%22:%2212df8cfca03d69d53e36c2decc2efb6d7aa7958f%22,%22segments%22:%5B%5D%7D,%7B%22tagIds%22:%5B%5D,%22type%22:%22point%22,%22point%22:%5B229551.0,163348.0,18523.0%5D,%22id%22:%2212be1041d90ff95ea0a41c8ea9021ec72b24dd0d%22,%22segments%22:%5B%5D%7D,%7B%22tagIds%22:%5B%5D,%22type%22:%22point%22,%22point%22:%5B255181.0,147015.0,20420.0%5D,%22id%22:%22a97ae1cc103136c9b3b6b0d5797e02f32d318bd6%22,%22segments%22:%5B%5D%7D,%7B%22tagIds%22:%5B%5D,%22type%22:%22point%22,%22point%22:%5B252215.0,148365.0,20545.0%5D,%22id%22:%22923f38a44dcf11a1998294d4152394879ac45aee%22,%22segments%22:%5B%5D%7D,%7B%22tagIds%22:%5B%5D,%22type%22:%22point%22,%22point%22:%5B216210.0,157720.0,21029.0%5D,%22id%22:%22bf6bf012acc4b9b75303a9e31f7566439a8f4ee6%22,%22segments%22:%5B%5D%7D,%7B%22tagIds%22:%5B%5D,%22type%22:%22point%22,%22point%22:%5B242697.0,149409.0,21213.0%5D,%22id%22:%22a213f212a905f35d4bfb8f1e084bdaa25bb15776%22,%22segments%22:%5B%5D%7D,%7B%22tagIds%22:%5B%5D,%22type%22:%22point%22,%22point%22:%5B243169.0,148821.0,21147.0%5D,%22id%22:%22663636316a4d32cff4d4c9dc63d4e656aa9d0347%22,%22segments%22:%5B%5D%7D,%7B%22tagIds%22:%5B%5D,%22type%22:%22point%22,%22point%22:%5B259376.0,168136.0,24430.0%5D,%22id%22:%228a80b72f9ef987d27356fc819fe0bbe01b3d7199%22,%22segments%22:%5B%5D%7D,%7B%22tagIds%22:%5B%5D,%22type%22:%22point%22,%22point%22:%5B254798.0,188018.0,20604.0%5D,%22id%22:%22f5001048155f6f8b37246e99840f9fc650b1237c%22,%22segments%22:%5B%5D%7D,%7B%22tagIds%22:%5B%5D,%22type%22:%22point%22,%22point%22:%5B254667.0,183723.0,20683.0%5D,%22id%22:%22232a1ea889f96a3f617ca3f51d57a3ef1536039f%22,%22segments%22:%5B%5D%7D,%7B%22tagIds%22:%5B%5D,%22type%22:%22point%22,%22point%22:%5B250367.0,181576.0,21882.0%5D,%22id%22:%225fa8ce3bb8ad1dc237368a55b550c15134344fbe%22,%22segments%22:%5B%5D%7D,%7B%22tagIds%22:%5B%5D,%22type%22:%22point%22,%22point%22:%5B217759.0,176741.0,19276.0%5D,%22id%22:%22d2c1aaa282be8953e7ffcc4f48b1fe692e8b8b67%22,%22segments%22:%5B%5D%7D,%7B%22tagIds%22:%5B%5D,%22type%22:%22point%22,%22point%22:%5B220704.0,176909.0,19398.0%5D,%22id%22:%2204c9c99edf5721a27c74dd3b4523fed5be80b2b5%22,%22segments%22:%5B%5D%7D,%7B%22tagIds%22:%5B%5D,%22type%22:%22point%22,%22point%22:%5B262946.0,171318.0,22986.0%5D,%22id%22:%22ec95bb729d8940088ccd900386d80bdfdf0689c4%22,%22segments%22:%5B%5D%7D,%7B%22tagIds%22:%5B%5D,%22type%22:%22point%22,%22point%22:%5B258520.0,165553.0,19960.0%5D,%22id%22:%2254d2e8b5da4ab6b48163c06af8435d4dd135f5a2%22,%22segments%22:%5B%5D%7D,%7B%22tagIds%22:%5B%5D,%22type%22:%22point%22,%22point%22:%5B253302.0,174531.0,20382.0%5D,%22id%22:%225ee02f2b83762722ec8f7fe73af7cded62b471f6%22,%22segments%22:%5B%5D%7D,%7B%22tagIds%22:%5B%5D,%22type%22:%22point%22,%22point%22:%5B263791.0,175266.0,22163.0%5D,%22id%22:%22dfa6f04c03529bdbe0adbce356c309b514850d1f%22,%22segments%22:%5B%5D%7D,%7B%22tagIds%22:%5B%5D,%22type%22:%22point%22,%22point%22:%5B261654.0,173229.0,22532.0%5D,%22id%22:%22a46886ab8a4916537156ad4fb74924598ab349e7%22,%22segments%22:%5B%5D%7D,%7B%22tagIds%22:%5B%5D,%22type%22:%22point%22,%22point%22:%5B222909.0,206025.0,20835.0%5D,%22id%22:%22181983321e4125a169e66a4edca56ea65ff53817%22,%22segments%22:%5B%5D%7D,%7B%22tagIds%22:%5B%5D,%22type%22:%22point%22,%22point%22:%5B217948.0,184448.0,20262.0%5D,%22id%22:%22cff2dbe8c33864d563f4dda09110c1ff9874fb34%22,%22segments%22:%5B%5D%7D,%7B%22tagIds%22:%5B%5D,%22type%22:%22point%22,%22point%22:%5B241626.0,188889.0,23861.0%5D,%22id%22:%224a0d6102fb8a85b960c69992fdd2af6c97d318a0%22,%22segments%22:%5B%5D%7D,%7B%22tagIds%22:%5B%5D,%22type%22:%22point%22,%22point%22:%5B240849.0,190275.0,22051.0%5D,%22id%22:%228a52eac3773750bfd40959831f2cb50074c02459%22,%22segments%22:%5B%5D%7D,%7B%22tagIds%22:%5B%5D,%22type%22:%22point%22,%22point%22:%5B241158.0,187430.0,23042.0%5D,%22id%22:%224a132e67100bafb985e55bb72e448914c1479b2f%22,%22segments%22:%5B%5D%7D,%7B%22tagIds%22:%5B%5D,%22type%22:%22point%22,%22point%22:%5B241074.0,187036.0,22273.0%5D,%22id%22:%22112f3bedbe9db010414e74fc6356215e82fa0323%22,%22segments%22:%5B%5D%7D,%7B%22tagIds%22:%5B%5D,%22type%22:%22point%22,%22point%22:%5B234165.0,189178.0,19042.0%5D,%22id%22:%2296c8bbe3388879fe10a57c74b2dca2344b9c1590%22,%22segments%22:%5B%5D%7D,%7B%22tagIds%22:%5B%5D,%22type%22:%22point%22,%22point%22:%5B233646.0,194617.0,19396.0%5D,%22id%22:%22ffb929e25661540cb266266cee88e24659bec7e2%22,%22segments%22:%5B%5D%7D,%7B%22tagIds%22:%5B%5D,%22type%22:%22point%22,%22point%22:%5B236349.0,191079.0,20295.0%5D,%22id%22:%2217e35e0f34a2dc61290168fd4085ffed5a542f94%22,%22segments%22:%5B%5D%7D,%7B%22tagIds%22:%5B%5D,%22type%22:%22point%22,%22point%22:%5B243768.0,191871.0,21324.0%5D,%22id%22:%2259b728d5bc147a86cbd2f5742d80182d81efb220%22,%22segments%22:%5B%5D%7D%5D%7D,%7B%22type%22:%22annotation%22,%22filterBySegmentation%22:false,%22annotationColor%22:%22#DD1111%22,%22name%22:%22axon_point%22,%22annotations%22:%5B%7B%22tag_ids%22:%5B%5D,%22type%22:%22ellipsoid%22,%22center%22:%5B243836.875,191896.828125,21326.03515625%5D,%22radii%22:%5B5000.0,5000.0,500.0%5D,%22id%22:%22cc9acc061914c6148ca58c1c8b63d9ad2a3640bd%22,%22segments%22:%5B%5D%7D%5D%7D%5D,%22selectedLayer%22:%7B%22layer%22:%22branch_points%22,%22visible%22:true%7D%7D\" target=\"_blank\">Neuroglancer Link</a>"
      ],
      "text/plain": [
       "<IPython.core.display.HTML object>"
      ]
     },
     "execution_count": 7,
     "metadata": {},
     "output_type": "execute_result"
    }
   ],
   "source": [
    "proofer.build_proofreading_state(orig_url, datastack, render_as='html')"
   ]
  },
  {
   "cell_type": "code",
   "execution_count": null,
   "metadata": {},
   "outputs": [],
   "source": []
  },
  {
   "cell_type": "code",
   "execution_count": null,
   "metadata": {},
   "outputs": [],
   "source": [
    "import pdb\n",
    "pdb.pm()"
   ]
  },
  {
   "cell_type": "code",
   "execution_count": null,
   "metadata": {},
   "outputs": [],
   "source": [
    "from meshparty import meshwork, trimesh_io, trimesh_vtk, mesh_filters\n",
    "from annotationframeworkclient.frameworkclient import FrameworkClient\n",
    "import numpy as np\n",
    "import pandas as pd\n",
    "import nglui\n",
    "import re\n",
    "\n",
    "EP_TAGS = ['nat_end', 'unc_end', 'unc_cont']\n",
    "BP_TAGS = ['checked']\n",
    "EP_COLOR = '#BBCC33'\n",
    "BP_COLOR = '#3322BB'"
   ]
  },
  {
   "cell_type": "code",
   "execution_count": null,
   "metadata": {},
   "outputs": [],
   "source": [
    "client = FrameworkClient(datastack)\n",
    "\n",
    "segs, annos = proofer.parse_state(orig_url, datastack, client)\n",
    "sb = proofer.proofreading_statebuilder(client, segs)"
   ]
  },
  {
   "cell_type": "code",
   "execution_count": null,
   "metadata": {},
   "outputs": [],
   "source": [
    "reload(proofer)"
   ]
  },
  {
   "cell_type": "code",
   "execution_count": null,
   "metadata": {},
   "outputs": [],
   "source": [
    "df = proofer.get_topo_points(client, segs, annos, min_size=1000)"
   ]
  },
  {
   "cell_type": "code",
   "execution_count": null,
   "metadata": {},
   "outputs": [],
   "source": [
    "import dill as pickle\n",
    "\n",
    "with open('df.pickle', 'rb') as f:\n",
    "    df = pickle.load(f)"
   ]
  },
  {
   "cell_type": "code",
   "execution_count": null,
   "metadata": {},
   "outputs": [],
   "source": [
    "import dill as pickle\n",
    "\n",
    "with open('df.pickle', 'wb') as f:\n",
    "    pickle.dump(df, f)"
   ]
  },
  {
   "cell_type": "code",
   "execution_count": null,
   "metadata": {},
   "outputs": [],
   "source": [
    "sb.render_state(df, return_as='html', url_prefix=client.info.info_cache.get(datastack).get('viewer_site'))"
   ]
  },
  {
   "cell_type": "code",
   "execution_count": null,
   "metadata": {},
   "outputs": [],
   "source": [
    "from meshparty import meshwork, trimesh_io, mesh_filters\n",
    "from annotationframeworkclient import FrameworkClient"
   ]
  },
  {
   "cell_type": "code",
   "execution_count": null,
   "metadata": {},
   "outputs": [],
   "source": [
    "client = FrameworkClient(datastack)\n",
    "mm = trimesh_io.MeshMeta(cv_path=client.info.segmentation_source())\n",
    "mesh = mm.mesh(seg_id=864691134917372426)"
   ]
  },
  {
   "cell_type": "code",
   "execution_count": null,
   "metadata": {},
   "outputs": [],
   "source": [
    "mk = mesh_filters.filter_largest_component(mesh)\n",
    "meshf = mesh.apply_mask(mk)\n",
    "nrn = meshwork.Meshwork(mesh=meshf)"
   ]
  },
  {
   "cell_type": "code",
   "execution_count": null,
   "metadata": {},
   "outputs": [],
   "source": [
    "soma_pt = np.array([240176, 205268, 21365]) * np.array([4,4,40])"
   ]
  },
  {
   "cell_type": "code",
   "execution_count": null,
   "metadata": {},
   "outputs": [],
   "source": [
    "nrn.skeletonize_mesh(soma_pt=soma_pt, soma_thresh_distance=10000, compute_radius=False, overwrite=True)"
   ]
  },
  {
   "cell_type": "code",
   "execution_count": null,
   "metadata": {},
   "outputs": [],
   "source": [
    "cps = nrn.skeleton.cover_paths\n",
    "cp_ends = np.array([nrn.skeleton.parent_nodes(cp[-1]) for cp in cps])\n"
   ]
  },
  {
   "cell_type": "code",
   "execution_count": null,
   "metadata": {},
   "outputs": [],
   "source": [
    "bps = nrn.skeleton.branch_points\n",
    "cp_queue = [0]\n",
    "primary_cps = [ii for ii, cp in enumerate(cp_ends) if cp == nrn.skeleton.root]"
   ]
  },
  {
   "cell_type": "code",
   "execution_count": null,
   "metadata": {},
   "outputs": [],
   "source": [
    "primary_cps"
   ]
  },
  {
   "cell_type": "code",
   "execution_count": null,
   "metadata": {},
   "outputs": [],
   "source": [
    "proofer.nglui.statebuilder.PointMapper?"
   ]
  },
  {
   "cell_type": "code",
   "execution_count": null,
   "metadata": {},
   "outputs": [],
   "source": [
    "def _branch_and_end_points_ordered(nrn):\n",
    "    cps = nrn.skeleton.cover_paths\n",
    "    cp_ends = np.array([nrn.skeleton.parent_nodes(cp[-1]) for cp in cps])\n",
    "\n",
    "    bps = nrn.skeleton.branch_points\n",
    "    cp_queue = [0]\n",
    "    primary_cps = [ii for ii, cp in enumerate(cp_ends) if cp == nrn.skeleton.root]\n",
    "    cp_queue.extend(primary_cps)\n",
    "\n",
    "    is_done = np.full(len(cp_ends), False)\n",
    "    bp_groups = []\n",
    "    eps = []\n",
    "    while not np.all(is_done):\n",
    "        print(cp_queue)\n",
    "\n",
    "        ind_to_do = cp_queue.pop(0)\n",
    "        is_done[ind_to_do] = True\n",
    "        cp = cps[ind_to_do]\n",
    "\n",
    "        # Get branch points\n",
    "        bps_on_cp = bps[np.isin(bps, cp)]\n",
    "        bp_groups.append(bps_on_cp)\n",
    "\n",
    "        # Get end point\n",
    "        eps.append(cp[0])\n",
    "\n",
    "        # Get other cps to check\n",
    "        cp_offshoots = np.flatnonzero(np.isin(cp_ends, cp))\n",
    "        if len(cp_offshoots) > 0:\n",
    "            cp_offshoots = cp_offshoots[~is_done[cp_offshoots]]\n",
    "            lens = np.array([nrn.skeleton.distance_to_root[cps[ii][0]] -\n",
    "                             nrn.skeleton.distance_to_root[cps[ii][-1]] for ii in cp_offshoots])\n",
    "            cp_offshoots = cp_offshoots[np.argsort(lens)]\n",
    "            for ind in cp_offshoots:\n",
    "                if ind not in cp_queue:\n",
    "                    cp_queue.insert(0, ind)\n",
    "\n",
    "    bp_points = []\n",
    "    for skinds in bp_groups:\n",
    "        if len(skinds) > 0:\n",
    "            bp_points.append(nrn.skeleton.vertices[skinds])\n",
    "    bp_points = np.vstack(bp_points)\n",
    "\n",
    "    ep_points = []\n",
    "    for skind in eps:\n",
    "        ep_points.append(nrn.skeleton.vertices[skind])\n",
    "    ep_points = np.vstack(ep_points)\n",
    "\n",
    "    return bp_points, ep_points\n"
   ]
  },
  {
   "cell_type": "code",
   "execution_count": null,
   "metadata": {},
   "outputs": [],
   "source": [
    "_branch_and_end_points_ordered(nrn)"
   ]
  },
  {
   "cell_type": "code",
   "execution_count": null,
   "metadata": {},
   "outputs": [],
   "source": [
    "from meshparty import trimesh_vtk"
   ]
  },
  {
   "cell_type": "code",
   "execution_count": null,
   "metadata": {},
   "outputs": [],
   "source": [
    "ma = nrn.mesh_actor()\n",
    "ska = nrn.skeleton_actor(line_width=4, color=(0,0,0))\n",
    "trimesh_vtk.render_actors([ma,ska])"
   ]
  },
  {
   "cell_type": "code",
   "execution_count": null,
   "metadata": {},
   "outputs": [],
   "source": [
    "cps = nrn.skeleton.cover_paths\n",
    "\n",
    "cp_ends = np.array([nrn.skeleton.parent_nodes(cp[-1]) for cp in cps])\n",
    "\n",
    "bps = nrn.skeleton.branch_points\n",
    "cp_queue = [0]\n",
    "is_done = np.full(len(cp_ends), False)\n",
    "bp_groups = []\n",
    "eps = []\n",
    "while not np.all(is_done):\n",
    "    ind_to_do = cp_queue.pop(0)\n",
    "    print(cp_queue)\n",
    "    is_done[ind_to_do] = True\n",
    "    cp = cps[ind_to_do]\n",
    "    \n",
    "    # Get branch points\n",
    "    bps_on_cp = bps[np.isin(bps, cp)]\n",
    "    bp_groups.append(bps_on_cp)\n",
    "    \n",
    "    # Get end point\n",
    "    eps.append(cp[0])\n",
    "    \n",
    "    # Get other cps to check\n",
    "    cp_offshoots = np.flatnonzero(np.isin(cp_ends, cp))\n",
    "    if len(cp_offshoots) > 0:\n",
    "        cp_offshoots = cp_offshoots[~is_done[cp_offshoots]]\n",
    "        lens = np.array([nrn.skeleton.distance_to_root[cps[ii][0]] - nrn.skeleton.distance_to_root[cps[ii][-1]] for ii in cp_offshoots])\n",
    "        cp_offshoots = cp_offshoots[np.argsort(lens)]\n",
    "        for ind in cp_offshoots:\n",
    "            cp_queue.insert(0, ind)"
   ]
  },
  {
   "cell_type": "code",
   "execution_count": null,
   "metadata": {},
   "outputs": [],
   "source": [
    "bp_points = []\n",
    "for skinds in bp_groups:\n",
    "    if len(skinds)>0:\n",
    "        bp_points.append(nrn.vertices[skinds.to_mesh_region_point])"
   ]
  },
  {
   "cell_type": "code",
   "execution_count": null,
   "metadata": {},
   "outputs": [],
   "source": [
    "bp_points = np.vstack(bp_points)"
   ]
  },
  {
   "cell_type": "code",
   "execution_count": null,
   "metadata": {},
   "outputs": [],
   "source": [
    "ep_points = []\n",
    "for skind in eps:\n",
    "    ep_points.append(nrn.skeleton.vertices[skind])\n",
    "ep_points = np.vstack(ep_points)"
   ]
  },
  {
   "cell_type": "code",
   "execution_count": null,
   "metadata": {},
   "outputs": [],
   "source": [
    "ep_points"
   ]
  },
  {
   "cell_type": "code",
   "execution_count": null,
   "metadata": {},
   "outputs": [],
   "source": [
    "bp_points"
   ]
  },
  {
   "cell_type": "code",
   "execution_count": null,
   "metadata": {},
   "outputs": [],
   "source": [
    "bps = nrn.skeleton.branch_points\n",
    "\n",
    "ind_to_do = 0\n",
    "is_done = np.full(len(cp_ends), False)\n",
    "bp_groups = []\n",
    "eps = []\n",
    "\n",
    "is_done[ind_to_do] = True\n",
    "cp = cps[ind_to_do]\n",
    "\n",
    "# Get branch points\n",
    "bps_on_cp = bps[np.isin(bps, cp)]\n",
    "bp_groups.append(bps_on_cp)\n"
   ]
  },
  {
   "cell_type": "code",
   "execution_count": null,
   "metadata": {},
   "outputs": [],
   "source": [
    "cp_offshoots = np.flatnonzero(np.isin(cp_ends, cp))\n",
    "cp_offshoots = cp_offshoots[np.invert(is_done[cp_offshoots])]\n"
   ]
  },
  {
   "cell_type": "code",
   "execution_count": null,
   "metadata": {},
   "outputs": [],
   "source": [
    "cp_offshoots"
   ]
  },
  {
   "cell_type": "code",
   "execution_count": null,
   "metadata": {},
   "outputs": [],
   "source": []
  },
  {
   "cell_type": "code",
   "execution_count": null,
   "metadata": {},
   "outputs": [],
   "source": [
    "from nglui import nglite as neuroglancer"
   ]
  },
  {
   "cell_type": "code",
   "execution_count": null,
   "metadata": {},
   "outputs": [],
   "source": [
    "from nglui import easyviewer, statebuilder"
   ]
  },
  {
   "cell_type": "code",
   "execution_count": null,
   "metadata": {},
   "outputs": [],
   "source": [
    "easyviewer.annotation.group_annotations?"
   ]
  },
  {
   "cell_type": "code",
   "execution_count": null,
   "metadata": {},
   "outputs": [],
   "source": [
    "from annotationframeworkclient import FrameworkClient"
   ]
  },
  {
   "cell_type": "code",
   "execution_count": null,
   "metadata": {},
   "outputs": [],
   "source": [
    "import numpy as np\n",
    "import pandas as pd"
   ]
  },
  {
   "cell_type": "code",
   "execution_count": null,
   "metadata": {},
   "outputs": [],
   "source": [
    "\n",
    "datastack = 'minnie65_phase3_v1'\n",
    "client = FrameworkClient(datastack)"
   ]
  },
  {
   "cell_type": "code",
   "execution_count": null,
   "metadata": {},
   "outputs": [],
   "source": [
    "img = statebuilder.ImageLayerConfig(client.info.image_source())\n",
    "points = statebuilder.PointMapper(point_column='pt', group_column='grp')\n",
    "anno = statebuilder.AnnotationLayerConfig(mapping_rules=[points])\n",
    "sb = statebuilder.StateBuilder([img, anno])"
   ]
  },
  {
   "cell_type": "code",
   "execution_count": null,
   "metadata": {},
   "outputs": [],
   "source": [
    "pts = np.random.randint(0, 10000, size=(10,3))\n",
    "grp = np.random.randint(0,3, size=10).astype(np.float)\n",
    "grp[[0,4]] = np.nan"
   ]
  },
  {
   "cell_type": "code",
   "execution_count": null,
   "metadata": {},
   "outputs": [],
   "source": [
    "data = pd.DataFrame(data={'pt':pts.tolist(), 'grp':grp})"
   ]
  },
  {
   "cell_type": "code",
   "execution_count": null,
   "metadata": {},
   "outputs": [],
   "source": [
    "statebuilder.AnnotationLayerConfig?"
   ]
  },
  {
   "cell_type": "code",
   "execution_count": null,
   "metadata": {},
   "outputs": [],
   "source": [
    "sb.render_state(data)"
   ]
  },
  {
   "cell_type": "code",
   "execution_count": null,
   "metadata": {},
   "outputs": [],
   "source": [
    "import pdb\n",
    "pdb.pm()"
   ]
  },
  {
   "cell_type": "code",
   "execution_count": null,
   "metadata": {},
   "outputs": [],
   "source": [
    "img = statebuilder.ImageLayerConfig"
   ]
  },
  {
   "cell_type": "code",
   "execution_count": null,
   "metadata": {},
   "outputs": [],
   "source": [
    "pt1 = neuroglancer.PointAnnotation(point=[1,2,3], id='a1')\n",
    "pt2 = neuroglancer.PointAnnotation(point=[2,3,4], id='a2')"
   ]
  },
  {
   "cell_type": "code",
   "execution_count": null,
   "metadata": {},
   "outputs": [],
   "source": [
    "vwr = easyviewer.EasyViewer()"
   ]
  },
  {
   "cell_type": "code",
   "execution_count": null,
   "metadata": {},
   "outputs": [],
   "source": [
    "vwr.add_image_layer('img', \"graphene://https://minnie.microns-daf.com/proxy/minniev2_em/\")\n",
    "vwr.add_annotation_layer('anno')"
   ]
  },
  {
   "cell_type": "code",
   "execution_count": null,
   "metadata": {},
   "outputs": [],
   "source": [
    "import numpy as np"
   ]
  },
  {
   "cell_type": "code",
   "execution_count": null,
   "metadata": {},
   "outputs": [],
   "source": [
    "pt1 = easyviewer.annotation.point_annotation(np.array([2,3,4]))\n",
    "pt2 = easyviewer.annotation.point_annotation([1,2,3])\n",
    "grp = easyviewer.annotation.group_annotations([pt1, pt2], return_all=False)"
   ]
  },
  {
   "cell_type": "code",
   "execution_count": null,
   "metadata": {},
   "outputs": [],
   "source": [
    "pt1.parent_id == grp.id"
   ]
  },
  {
   "cell_type": "code",
   "execution_count": null,
   "metadata": {},
   "outputs": [],
   "source": [
    "vwr.add_annotations('anno', grp)"
   ]
  },
  {
   "cell_type": "code",
   "execution_count": null,
   "metadata": {},
   "outputs": [],
   "source": [
    "pt1 = easyviewer.annotation.point_annotation(np.array([2,3,4]))\n",
    "pt2 = easyviewer.annotation.point_annotation([1,2,3])\n",
    "grp = neuroglancer.CollectionAnnotation(source=[1,2,3], entries=[pt1.id, pt2.id], id='1', children_visible=True)\n",
    "vwr.add_annotations('anno', [grp, pt1, pt2])"
   ]
  },
  {
   "cell_type": "code",
   "execution_count": null,
   "metadata": {},
   "outputs": [],
   "source": [
    "pt1.parent_id = '3'"
   ]
  },
  {
   "cell_type": "code",
   "execution_count": null,
   "metadata": {},
   "outputs": [],
   "source": [
    "pt1"
   ]
  },
  {
   "cell_type": "code",
   "execution_count": null,
   "metadata": {},
   "outputs": [],
   "source": [
    "vwr"
   ]
  },
  {
   "cell_type": "code",
   "execution_count": null,
   "metadata": {},
   "outputs": [],
   "source": [
    "pt2 = easyviewer.annotation.line_annotation([1,2,3], [3,4,5])\n"
   ]
  },
  {
   "cell_type": "code",
   "execution_count": null,
   "metadata": {},
   "outputs": [],
   "source": [
    "pt1.id = 3"
   ]
  },
  {
   "cell_type": "code",
   "execution_count": null,
   "metadata": {},
   "outputs": [],
   "source": [
    "pt1."
   ]
  },
  {
   "cell_type": "code",
   "execution_count": null,
   "metadata": {},
   "outputs": [],
   "source": [
    "blah = np.array([1,2,3,np.nan, np.nan, 1, 1, 2, 3,3,2])"
   ]
  },
  {
   "cell_type": "code",
   "execution_count": null,
   "metadata": {},
   "outputs": [],
   "source": [
    "vals, inv = np.unique(blah, return_inverse=True)"
   ]
  },
  {
   "cell_type": "code",
   "execution_count": null,
   "metadata": {},
   "outputs": [],
   "source": [
    "np.flatnonzero(inv==0)"
   ]
  },
  {
   "cell_type": "code",
   "execution_count": null,
   "metadata": {},
   "outputs": [],
   "source": [
    "np.flatnonzero(~np.isnan(vals))"
   ]
  },
  {
   "cell_type": "code",
   "execution_count": null,
   "metadata": {},
   "outputs": [],
   "source": [
    "for i"
   ]
  }
 ],
 "metadata": {
  "kernelspec": {
   "display_name": "analysis_dev",
   "language": "python",
   "name": "analysis_dev"
  },
  "language_info": {
   "codemirror_mode": {
    "name": "ipython",
    "version": 3
   },
   "file_extension": ".py",
   "mimetype": "text/x-python",
   "name": "python",
   "nbconvert_exporter": "python",
   "pygments_lexer": "ipython3",
   "version": "3.7.6"
  }
 },
 "nbformat": 4,
 "nbformat_minor": 4
}
